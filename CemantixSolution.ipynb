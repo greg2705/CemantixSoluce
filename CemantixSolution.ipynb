{
 "cells": [
  {
   "cell_type": "code",
   "execution_count": 11,
   "id": "0eeb3250",
   "metadata": {},
   "outputs": [
    {
     "data": {
      "text/plain": [
       "'concession'"
      ]
     },
     "execution_count": 11,
     "metadata": {},
     "output_type": "execute_result"
    }
   ],
   "source": [
    "import requests \n",
    "from gensim.models import KeyedVectors\n",
    "import random\n",
    "import numpy as np\n",
    "import concurrent.futures\n",
    "from functools import partial\n",
    "\n",
    "\n",
    "# Load the word embedding model\n",
    "model = KeyedVectors.load_word2vec_format(\"modeleCemantix.bin\", binary=True, unicode_errors=\"ignore\")\n",
    "\n",
    "def send_word(mot: str, url: str) -> float:\n",
    "    \"\"\"\n",
    "    Send a word to the Cemantix API to get its score.\n",
    "\n",
    "    Args:\n",
    "    mot (str): The word to send to the API.\n",
    "    url (str): The URL of the API endpoint.\n",
    "\n",
    "    Returns:\n",
    "    float: The score of the word from the API, or -1000 if an error occurs.\n",
    "    \"\"\"\n",
    "    response = requests.post(url, headers={'origin': 'https://cemantix.certitudes.org'}, data={'word': mot})\n",
    "    r = response.json()\n",
    "    if 'error' in r.keys():\n",
    "        return -1000\n",
    "    else:\n",
    "        return r[\"score\"]\n",
    "\n",
    "def best_start(model: KeyedVectors, dico_mot: dict, url: str,nb_start : int = 50 ,num_threads: int = 10) -> dict:\n",
    "    \"\"\"\n",
    "    Randomly select and score words from the model to initialize the dictionary of scored words.\n",
    "\n",
    "    Args:\n",
    "    model (KeyedVectors): The word embedding model.\n",
    "    dico_mot (dict): A dictionary to store words and their scores.\n",
    "    url (str): The URL of the Cemantix API.\n",
    "    num_threads (int): The number of threads to use for concurrent requests.\n",
    "\n",
    "    Returns:\n",
    "    dict: The updated dictionary with initial words and their scores.\n",
    "    \"\"\"\n",
    "\n",
    "    rd=[random.randint(1, 100000) for _ in range(nb_start)]\n",
    "    rd_words=[ model.index_to_key[r] for r in rd]\n",
    "    send_word_map = partial(send_word, url=url)\n",
    "\n",
    "    dico_mot={}\n",
    "    with concurrent.futures.ThreadPoolExecutor(max_workers=num_threads) as executor:\n",
    "        future_to_word = {executor.submit(send_word_map, word): word for word in rd_words}\n",
    "        for future in concurrent.futures.as_completed(future_to_word):\n",
    "            word = future_to_word[future]\n",
    "            score = future.result()\n",
    "            dico_mot[word]=score\n",
    "\n",
    "    return dico_mot\n",
    "\n",
    "\n",
    "def find_word(model: KeyedVectors) -> str:\n",
    "    \"\"\"\n",
    "    Find the word of the day using the Cemantix model and API.\n",
    "\n",
    "    Args:\n",
    "    model (KeyedVectors): The word embedding model.\n",
    "\n",
    "    Returns:\n",
    "    str: The word of the day.\n",
    "    \"\"\"\n",
    "    WORD_to_FIND = \"\"\n",
    "    word_to_test = []\n",
    "    dico_mot = {}\n",
    "\n",
    "    dico_mot = best_start(model,{},'https://cemantix.certitudes.org/score',150,10)\n",
    "    mot = max(dico_mot, key=dico_mot.get)\n",
    "    word_to_test = word_to_test + [i[0] for i in model.most_similar(mot, topn=50)][::-1]\n",
    "\n",
    "    while WORD_to_FIND == \"\":\n",
    "        if not word_to_test:\n",
    "            dico_mot = best_start(model, dico_mot)\n",
    "            mot = max(dico_mot, key=dico_mot.get)\n",
    "            word_to_test = word_to_test + [i[0] for i in model.most_similar(mot, topn=50)][::-1]\n",
    "\n",
    "        mot_test = word_to_test[-1]\n",
    "        word_to_test.pop(-1)\n",
    "\n",
    "        if mot_test not in dico_mot.keys():\n",
    "            sc = send_word(mot_test,'https://cemantix.certitudes.org/score')\n",
    "            if sc > 0.99:\n",
    "                WORD_to_FIND = mot_test\n",
    "\n",
    "            dico_mot[mot_test] = sc\n",
    "            if dico_mot[mot_test] > dico_mot[mot]:\n",
    "                mot = mot_test\n",
    "                word_to_test = word_to_test + [i[0] for i in model.most_similar(mot, topn=50)][::-1]\n",
    "\n",
    "    return WORD_to_FIND\n",
    "\n",
    "# Run the function to find the word of the day\n",
    "find_word(model)"
   ]
  },
  {
   "cell_type": "code",
   "execution_count": 12,
   "id": "56eb5fae",
   "metadata": {},
   "outputs": [
    {
     "data": {
      "text/plain": [
       "'concession'"
      ]
     },
     "execution_count": 12,
     "metadata": {},
     "output_type": "execute_result"
    }
   ],
   "source": [
    "# Load the word embedding model\n",
    "model = KeyedVectors.load_word2vec_format(\"modeleCemantix.bin\", binary=True, unicode_errors=\"ignore\")\n",
    "find_word(model)"
   ]
  }
 ],
 "metadata": {
  "kernelspec": {
   "display_name": "Python 3 (ipykernel)",
   "language": "python",
   "name": "python3"
  },
  "language_info": {
   "codemirror_mode": {
    "name": "ipython",
    "version": 3
   },
   "file_extension": ".py",
   "mimetype": "text/x-python",
   "name": "python",
   "nbconvert_exporter": "python",
   "pygments_lexer": "ipython3",
   "version": "3.11.5"
  }
 },
 "nbformat": 4,
 "nbformat_minor": 5
}
