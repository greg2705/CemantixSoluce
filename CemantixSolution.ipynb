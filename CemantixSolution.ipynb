{
 "cells": [
  {
   "cell_type": "code",
   "execution_count": 11,
   "id": "0eeb3250",
   "metadata": {},
   "outputs": [
    {
     "name": "stdout",
     "output_type": "stream",
     "text": [
      "Le mot du jour à trouver est :  concurrent\n"
     ]
    }
   ],
   "source": [
    "import requests as re\n",
    "from gensim.models import KeyedVectors\n",
    "import random\n",
    "import numpy as np\n",
    "\n",
    "model=KeyedVectors.load_word2vec_format(\"modeleCemantix.bin\", binary=True, unicode_errors=\"ignore\")\n",
    "\n",
    "def send_word(mot):\n",
    "    r=re.post('https://cemantix.certitudes.org/score',{'word':mot}).json()\n",
    "    if('error' in r.keys()):\n",
    "        return -1000\n",
    "    else:\n",
    "        return r[\"score\"]\n",
    "    \n",
    "def best_start(model,dico_mot):\n",
    "    url='https://cemantix.certitudes.org/score'\n",
    "    \n",
    "    for i in range(50):\n",
    "        rd=random.randint(1,100000)\n",
    "        if(model.index_to_key[rd] not in dico_mot.keys()):\n",
    "            dico_mot[model.index_to_key[rd]]=send_word(model.index_to_key[rd])\n",
    "    return dico_mot\n",
    "\n",
    "\n",
    "def find_word(model):\n",
    "    WORD_to_FIND=\"\"\n",
    "    word_to_test=[]\n",
    "    dico_mot={}\n",
    "    \n",
    "    dico_mot=best_start(model,dico_mot)\n",
    "    mot=max(dico_mot, key=dico_mot.get)\n",
    "    word_to_test=word_to_test+[i[0] for i in model.most_similar(mot,topn=50)][::-1]\n",
    "    \n",
    "    while(WORD_to_FIND==\"\"):\n",
    "    \n",
    "        if(word_to_test==[]):\n",
    "            dico_mot=best_start(model,dico_mot)\n",
    "            mot=max(dico_mot, key=dico_mot.get)\n",
    "            word_to_test=word_to_test+[i[0] for i in model.most_similar(mot,topn=50)][::-1]\n",
    "            \n",
    "\n",
    "        mot_test=word_to_test[-1]\n",
    "        word_to_test.pop(-1)\n",
    "        \n",
    "        if(mot_test not in dico_mot.keys()):\n",
    "            \n",
    "            sc=send_word(mot_test)\n",
    "            if(sc>0.99):\n",
    "                WORD_to_FIND=mot_test\n",
    "                \n",
    "            dico_mot[mot_test]=sc\n",
    "            if(dico_mot[mot_test]>dico_mot[mot]):\n",
    "                mot=mot_test\n",
    "                word_to_test=word_to_test+[i[0] for i in model.most_similar(mot,topn=50)][::-1]\n",
    "\n",
    "    print(\"Le mot du jour à trouver est : \",WORD_to_FIND)\n",
    "    return\n",
    "\n",
    "find_word(model)"
   ]
  }
 ],
 "metadata": {
  "kernelspec": {
   "display_name": "Python 3 (ipykernel)",
   "language": "python",
   "name": "python3"
  },
  "language_info": {
   "codemirror_mode": {
    "name": "ipython",
    "version": 3
   },
   "file_extension": ".py",
   "mimetype": "text/x-python",
   "name": "python",
   "nbconvert_exporter": "python",
   "pygments_lexer": "ipython3",
   "version": "3.9.13"
  }
 },
 "nbformat": 4,
 "nbformat_minor": 5
}
